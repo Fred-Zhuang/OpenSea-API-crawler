{
 "cells": [
  {
   "cell_type": "markdown",
   "id": "2b4b4ddc",
   "metadata": {},
   "source": [
    "FOMO 公式\n",
    "\n",
    "1. FOMO 前 (D-1 day)：條件日成立的 FOMO day 的前一日\n",
    "\n",
    "2. FOMO 中 (D-day)：\n",
    "    a) 歷史交易日中，成交量(volume) 最高的前 3 個日期\n",
    "    b) 第一高 減去 第二高、第三高的日期，其成交量比例應小於 20 % 才選入 FOMO 日 (有可能部份項目 FOMO 日少於三個日期)\n",
    "    \n",
    "3. FOMO 後 (D+1 day)：條件日成立的 FOMO day 的後一日\n"
   ]
  },
  {
   "cell_type": "code",
   "execution_count": null,
   "id": "26cd4c9b",
   "metadata": {},
   "outputs": [],
   "source": [
    "import json\n",
    "import numpy as np\n",
    "import pandas as pd\n",
    "import datetime\n",
    "import os\n",
    "import time\n",
    "\n",
    "#'NFT20_success改版.feather' 同 \"NFT20_successful_events_new_有winneraddress.xlsx\"\n",
    "data_dir = os.path.join(os.getcwd(), 'data')\n",
    "df = os.path.join(data_dir, 'NFT20_success改版.feather')\n",
    "\n",
    "start_time = time.time()\n",
    "df_all = pd.read_feather(df)\n",
    "total_time = time.time() - start_time\n",
    "print(\"Total seconds to load:\", total_time)"
   ]
  },
  {
   "cell_type": "code",
   "execution_count": null,
   "id": "8e43f17f",
   "metadata": {},
   "outputs": [],
   "source": [
    "#21個項目交易單量按日加總\n",
    "df_all[\"event_timestamp\"] = pd.to_datetime(df_all['event_timestamp'].copy())\n",
    "grp = df_all.query('deal_price > 0').groupby(pd.Grouper(key='event_timestamp', freq='1D'))\n",
    "grp = grp.size()\n",
    "grp.name = \"count_all\"\n",
    "grp = pd.DataFrame(grp)\n"
   ]
  },
  {
   "cell_type": "code",
   "execution_count": null,
   "id": "a92e86d3",
   "metadata": {},
   "outputs": [],
   "source": [
    "#套入Fomo公式\n",
    "grp = grp.sort_values(by=\"count_all\", ascending=False)\n",
    "grp['pct'] = 100 * (1 - grp[\"count_all\"] / grp.iloc[0,0])\n",
    "grp['pct_within20'] =  [grp['pct']<20][0]"
   ]
  },
  {
   "cell_type": "code",
   "execution_count": null,
   "id": "1a7b3627",
   "metadata": {},
   "outputs": [],
   "source": [
    "#項目清單\n",
    "g = df_all.groupby(\"collection_slug\")\n",
    "groups_collection = list(g.groups.keys())\n",
    "\n",
    "#個別項目套用公式\n",
    "df_collections = pd.DataFrame()\n",
    "for i in groups_collection:\n",
    "    grp_temp = df_all.query('collection_slug == \"' + i + '\"& deal_price > 0').groupby(pd.Grouper(key='event_timestamp', freq='1D'))\n",
    "    grp2 = grp_temp.size()\n",
    "    grp2.name = \"count_collections\"\n",
    "    grp2 = pd.DataFrame(grp2)\n",
    "    grp2 = grp2.sort_values(by=\"count_collections\", ascending=False)\n",
    "    grp2['pct'] = 100 * (1 - grp2[\"count_collections\"] / grp2.iloc[0,0])\n",
    "    grp2['pct_within20'] =  [grp2['pct']<20][0]\n",
    "    grp2 = grp2[grp2['pct_within20']==True]\n",
    "    grp2[\"collection_slug\"] = i\n",
    "    df_collections = df_collections.append(grp2)\n",
    "\n",
    "df_collections2 = pd.concat([df_collections, grp[\"count_all\"]], axis=1).reindex(df_collections.index)\n",
    "df_collections2[\"交易單量佔總數\"] = df_collections2[\"count_collections\"] / df_collections2[\"count_all\"]\n"
   ]
  },
  {
   "cell_type": "code",
   "execution_count": null,
   "id": "ee1379b2",
   "metadata": {},
   "outputs": [],
   "source": [
    "#Fomo day=1、前一日=-1、後一日=2、其他=0\n",
    "fomodf = pd.DataFrame([1]*len(df_collections2.index),index=df_collections2.index,columns=[\"Fomoday\"])\n",
    "grp = pd.concat([grp, fomodf.reindex(grp.index)], axis=1)\n",
    "grp = grp.sort_values(by=\"event_timestamp\", ascending=True)\n",
    "grp[\"Fomoday_p\"] = grp[\"Fomoday\"].fillna(limit=1,method=\"backfill\")\n",
    "grp[\"Fomoday_last\"] = grp[\"Fomoday_p\"].fillna(limit=1,method='ffill')\n",
    "grp[\"Fomoday\"]= np.where(grp[\"Fomoday_p\"]==1 & pd.isna(grp[\"Fomoday\"]), -1 ,grp[\"Fomoday\"])\n",
    "grp[\"Fomoday\"]= np.where(grp[\"Fomoday_last\"]==1 & pd.isna(grp[\"Fomoday\"]), 2 ,grp[\"Fomoday\"])\n",
    "grp[\"Fomoday\"] = grp[\"Fomoday\"].fillna(0)\n",
    "\n",
    "grp[\"datetime\"] = grp.index.to_pydatetime()\n",
    "grp[\"datetime\"] = grp[\"datetime\"].dt.date\n"
   ]
  },
  {
   "cell_type": "code",
   "execution_count": null,
   "id": "5e61dcf3",
   "metadata": {},
   "outputs": [],
   "source": [
    "#倂回原始資料\n",
    "df_all[\"datetime\"] = df_all[\"event_timestamp\"].dt.date\n",
    "result = pd.merge(df_all, grp[[\"datetime\",\"Fomoday\"]], on=\"datetime\")"
   ]
  }
 ],
 "metadata": {
  "kernelspec": {
   "display_name": "Python 3 (ipykernel)",
   "language": "python",
   "name": "python3"
  },
  "language_info": {
   "codemirror_mode": {
    "name": "ipython",
    "version": 3
   },
   "file_extension": ".py",
   "mimetype": "text/x-python",
   "name": "python",
   "nbconvert_exporter": "python",
   "pygments_lexer": "ipython3",
   "version": "3.9.12"
  }
 },
 "nbformat": 4,
 "nbformat_minor": 5
}
